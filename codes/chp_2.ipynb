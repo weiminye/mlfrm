{
 "cells": [
  {
   "cell_type": "code",
   "execution_count": null,
   "metadata": {},
   "outputs": [],
   "source": [
    "%pip install arch==5.0.1\n",
    "%pip install arviz==0.11.2\n",
    "%pip install basemap==1.2.1\n",
    "%pip install copulae==0.7.5\n",
    "%pip install copulas==0.5.1\n",
    "%pip install costcla==0.6\n",
    "%pip install ctgan==0.4.3\n",
    "%pip install decorator==4.4.2\n",
    "%pip install gap==0.4.6\n",
    "%pip install gap-stat==2.0.1\n",
    "%pip install graphviz==0.17\n",
    "%pip install hmmlearn==0.2.6\n",
    "%pip install keras==2.6.0\n",
    "%pip install missingno==0.5.0\n",
    "%pip install mpl-toolkits.clifford==0.0.3\n",
    "%pip install numpy==1.21.2\n",
    "%pip install numpy-financial==1.0.0\n",
    "%pip install pandas==1.1.4\n",
    "%pip install pandas-datareader==0.10.0\n",
    "%pip install plotly==5.2.1\n",
    "%pip install pmdarima==1.8.2\n",
    "%pip install portfoliolab==0.3.0\n",
    "%pip install py4j==0.10.9\n",
    "%pip install pyensae==1.3.884\n",
    "%pip install pymc3==3.11.4\n",
    "%pip install pyportfolioopt==1.4.2\n",
    "%pip install python-dateutil==2.8.0\n",
    "%pip install Quandl==3.6.1\n",
    "%pip install quantecon==0.5.1\n",
    "%pip install scikit-image==0.18.1\n",
    "%pip install scikit-learn==1.0.1\n",
    "%pip install scipy==1.6.0\n",
    "%pip install sklearn-som==1.1.0\n",
    "%pip install table-evaluator==1.2.2.post1\n",
    "%pip install tables==3.6.1\n",
    "%pip install tensorboard==2.6.0\n",
    "%pip install tensorflow==2.6.0\n",
    "%pip install xgboost==1.4.2\n",
    "%pip install yellowbrick==1.3.post1\n",
    "%pip install yfinance==0.1.63"
   ]
  },
  {
   "cell_type": "markdown",
   "metadata": {},
   "source": [
    "## Oil Price Graph"
   ]
  },
  {
   "cell_type": "code",
   "execution_count": null,
   "metadata": {},
   "outputs": [],
   "source": [
    "import quandl\n",
    "import matplotlib.pyplot as plt\n",
    "import warnings\n",
    "warnings.filterwarnings('ignore')\n",
    "plt.style.use('seaborn')\n",
    "plt.rcParams['figure.dpi'] = 300\n",
    "plt.rcParams['savefig.dpi'] = 300"
   ]
  },
  {
   "cell_type": "code",
   "execution_count": null,
   "metadata": {},
   "outputs": [],
   "source": [
    "oil = quandl.get(\"NSE/OIL\", authtoken=\"vEjGTysiCFBuN-z5bjGP\",#insert you api token\n",
    "                 start_date=\"1980-01-01\",\n",
    "                 end_date=\"2020-01-01\")"
   ]
  },
  {
   "cell_type": "code",
   "execution_count": null,
   "metadata": {},
   "outputs": [],
   "source": [
    "plt.figure(figsize=(10, 6))\n",
    "plt.plot(oil.Close)\n",
    "plt.ylabel('$')\n",
    "plt.xlabel('Date')\n",
    "plt.show()"
   ]
  },
  {
   "cell_type": "markdown",
   "metadata": {},
   "source": [
    "## Trend"
   ]
  },
  {
   "cell_type": "code",
   "execution_count": null,
   "metadata": {},
   "outputs": [],
   "source": [
    "import yfinance as yf\n",
    "import numpy as np\n",
    "import pandas as pd\n",
    "import datetime\n",
    "import statsmodels.api as sm\n",
    "from statsmodels.tsa.stattools import adfuller\n",
    "from statsmodels.tsa.seasonal import seasonal_decompose"
   ]
  },
  {
   "cell_type": "code",
   "execution_count": null,
   "metadata": {},
   "outputs": [],
   "source": [
    "ticker = '^GSPC'\n",
    "start = datetime.datetime(2015, 1, 1)\n",
    "end = datetime.datetime(2021, 1, 1)\n",
    "SP_prices = yf.download(ticker, start=start, end=end, interval='1mo')\\\n",
    "            .Close"
   ]
  },
  {
   "cell_type": "code",
   "execution_count": null,
   "metadata": {},
   "outputs": [],
   "source": [
    "seasonal_decompose(SP_prices, period=12).plot()\n",
    "plt.show()"
   ]
  },
  {
   "cell_type": "code",
   "execution_count": null,
   "metadata": {},
   "outputs": [],
   "source": [
    "plt.figure(figsize=(10, 6))\n",
    "plt.plot(SP_prices)\n",
    "plt.title('S&P-500 Prices')\n",
    "plt.ylabel('$')\n",
    "plt.xlabel('Date')\n",
    "plt.show()"
   ]
  },
  {
   "cell_type": "code",
   "execution_count": null,
   "metadata": {},
   "outputs": [],
   "source": [
    "sm.graphics.tsa.plot_acf(SP_prices, lags=30)\n",
    "plt.xlabel('Number of Lags')\n",
    "plt.show()"
   ]
  },
  {
   "cell_type": "code",
   "execution_count": null,
   "metadata": {},
   "outputs": [],
   "source": [
    "sm.graphics.tsa.plot_pacf(SP_prices, lags=30)\n",
    "plt.xlabel('Number of Lags')\n",
    "plt.show()"
   ]
  },
  {
   "cell_type": "markdown",
   "metadata": {},
   "source": [
    " ## Seasonality"
   ]
  },
  {
   "cell_type": "code",
   "execution_count": null,
   "metadata": {},
   "outputs": [],
   "source": [
    "from fredapi import Fred\n",
    "import statsmodels.api as sm"
   ]
  },
  {
   "cell_type": "code",
   "execution_count": null,
   "metadata": {},
   "outputs": [],
   "source": [
    "fred = Fred(api_key='78b14ec6ba46f484b94db43694468bb1')#insert you api key"
   ]
  },
  {
   "cell_type": "code",
   "execution_count": null,
   "metadata": {},
   "outputs": [],
   "source": [
    "energy = fred.get_series(\"CAPUTLG2211A2S\", \n",
    "                         observation_start=\"2010-01-01\", \n",
    "                         observation_end=\"2020-12-31\")\n",
    "energy.head(12)"
   ]
  },
  {
   "cell_type": "code",
   "execution_count": null,
   "metadata": {},
   "outputs": [],
   "source": [
    "plt.plot(energy)\n",
    "plt.title('Energy Capacity Utilization')\n",
    "plt.ylabel('$')\n",
    "plt.xlabel('Date')\n",
    "plt.show()"
   ]
  },
  {
   "cell_type": "code",
   "execution_count": null,
   "metadata": {},
   "outputs": [],
   "source": [
    "sm.graphics.tsa.plot_acf(energy, lags=30)\n",
    "plt.xlabel('Number of Lags')\n",
    "plt.show()"
   ]
  },
  {
   "cell_type": "markdown",
   "metadata": {},
   "source": [
    "## Stationarity"
   ]
  },
  {
   "cell_type": "code",
   "execution_count": null,
   "metadata": {},
   "outputs": [],
   "source": [
    "stat_test = adfuller(SP_prices)[0:2]\n",
    "print(\"The test statistic and p-value of ADF test are {}\"\n",
    "      .format(stat_test))"
   ]
  },
  {
   "cell_type": "code",
   "execution_count": null,
   "metadata": {},
   "outputs": [],
   "source": [
    "diff_SP_price = SP_prices.diff()"
   ]
  },
  {
   "cell_type": "code",
   "execution_count": null,
   "metadata": {
    "scrolled": true
   },
   "outputs": [],
   "source": [
    "plt.figure(figsize=(10, 6))\n",
    "plt.plot(diff_SP_price)\n",
    "plt.title('Differenced S&P-500 Price')\n",
    "plt.ylabel('$')\n",
    "plt.xlabel('Date')\n",
    "plt.show()"
   ]
  },
  {
   "cell_type": "code",
   "execution_count": null,
   "metadata": {},
   "outputs": [],
   "source": [
    "sm.graphics.tsa.plot_acf(diff_SP_price.dropna(),lags=30)\n",
    "plt.xlabel('Number of Lags')\n",
    "plt.show()"
   ]
  },
  {
   "cell_type": "code",
   "execution_count": null,
   "metadata": {},
   "outputs": [],
   "source": [
    "stat_test2 = adfuller(diff_SP_price.dropna())[0:2]\n",
    "print(\"The test statistic and p-value of ADF test after differencing are {}\"\\\n",
    "      .format(stat_test2))"
   ]
  },
  {
   "cell_type": "code",
   "execution_count": null,
   "metadata": {},
   "outputs": [],
   "source": [
    "seasonal_index = energy.resample('Q').mean()"
   ]
  },
  {
   "cell_type": "code",
   "execution_count": null,
   "metadata": {},
   "outputs": [],
   "source": [
    "dates = energy.index.year.unique()\n",
    "deseasonalized = []\n",
    "for i in dates:\n",
    "    for j in range(1, 13):\n",
    "        deseasonalized.append((energy[str(i)][energy[str(i)]\\\n",
    "                                              .index.month==j]))\n",
    "concat_deseasonalized = np.concatenate(deseasonalized)"
   ]
  },
  {
   "cell_type": "code",
   "execution_count": null,
   "metadata": {},
   "outputs": [],
   "source": [
    "deseason_energy = []\n",
    "for i,s in zip(range(0, len(energy), 3), range(len(seasonal_index))):\n",
    "    deseason_energy.append(concat_deseasonalized[i:i+3] / \n",
    "                           seasonal_index.iloc[s])\n",
    "concat_deseason_energy = np.concatenate(deseason_energy)\n",
    "deseason_energy = pd.DataFrame(concat_deseason_energy, \n",
    "                               index=energy.index)\n",
    "deseason_energy.columns = ['Deaseasonalized Energy']\n",
    "deseason_energy.head()"
   ]
  },
  {
   "cell_type": "code",
   "execution_count": null,
   "metadata": {},
   "outputs": [],
   "source": [
    "sm.graphics.tsa.plot_acf(deseason_energy, lags=10)\n",
    "plt.xlabel('Number of Lags')\n",
    "plt.show()"
   ]
  },
  {
   "cell_type": "code",
   "execution_count": null,
   "metadata": {},
   "outputs": [],
   "source": [
    "sm.graphics.tsa.plot_pacf(deseason_energy, lags=10)\n",
    "plt.xlabel('Number of Lags')\n",
    "plt.show()"
   ]
  },
  {
   "cell_type": "markdown",
   "metadata": {},
   "source": [
    "## White Noise"
   ]
  },
  {
   "cell_type": "code",
   "execution_count": null,
   "metadata": {},
   "outputs": [],
   "source": [
    "mu = 0\n",
    "std = 1 \n",
    "WN = np.random.normal(mu, std, 1000)\n",
    "\n",
    "plt.plot(WN)\n",
    "plt.xlabel('Number of Simulations')\n",
    "plt.show()"
   ]
  },
  {
   "cell_type": "markdown",
   "metadata": {},
   "source": [
    "## Moving Average"
   ]
  },
  {
   "cell_type": "code",
   "execution_count": null,
   "metadata": {},
   "outputs": [],
   "source": [
    "ticker = ['AAPL', 'MSFT']\n",
    "start = datetime.datetime(2019, 1, 1)\n",
    "end = datetime.datetime(2021, 1, 1)\n",
    "stock_prices = yf.download(ticker, start, end, interval='1d')\\\n",
    "               .Close"
   ]
  },
  {
   "cell_type": "code",
   "execution_count": null,
   "metadata": {},
   "outputs": [],
   "source": [
    "stock_prices = stock_prices.dropna()"
   ]
  },
  {
   "cell_type": "code",
   "execution_count": null,
   "metadata": {},
   "outputs": [],
   "source": [
    "for i in ticker:\n",
    "    stat_test = adfuller(stock_prices[i])[0:2]\n",
    "    print(\"The ADF test statistic and p-value of {} are {}\"\\\n",
    "          .format(i, stat_test))"
   ]
  },
  {
   "cell_type": "code",
   "execution_count": null,
   "metadata": {},
   "outputs": [],
   "source": [
    "diff_stock_prices = stock_prices.diff().dropna()"
   ]
  },
  {
   "cell_type": "code",
   "execution_count": null,
   "metadata": {},
   "outputs": [],
   "source": [
    "split = int(len(diff_stock_prices['AAPL'].values) * 0.95)\n",
    "diff_train_aapl = diff_stock_prices['AAPL'].iloc[:split]\n",
    "diff_test_aapl = diff_stock_prices['AAPL'].iloc[split:]\n",
    "diff_train_msft = diff_stock_prices['MSFT'].iloc[:split]\n",
    "diff_test_msft = diff_stock_prices['MSFT'].iloc[split:]"
   ]
  },
  {
   "cell_type": "code",
   "execution_count": null,
   "metadata": {},
   "outputs": [],
   "source": [
    "diff_train_aapl.to_csv('diff_train_aapl.csv')\n",
    "diff_test_aapl.to_csv('diff_test_aapl.csv')\n",
    "diff_train_msft.to_csv('diff_train_msft.csv')\n",
    "diff_test_msft.to_csv('diff_test_msft.csv')"
   ]
  },
  {
   "cell_type": "code",
   "execution_count": null,
   "metadata": {},
   "outputs": [],
   "source": [
    "fig, ax = plt.subplots(2, 1, figsize=(10, 6))\n",
    "plt.tight_layout() \n",
    "sm.graphics.tsa.plot_acf(diff_train_aapl,lags=30,\n",
    "                         ax=ax[0], title='ACF - Apple')\n",
    "sm.graphics.tsa.plot_acf(diff_train_msft,lags=30,\n",
    "                         ax=ax[1], title='ACF - Microsoft')\n",
    "plt.show()"
   ]
  },
  {
   "cell_type": "code",
   "execution_count": null,
   "metadata": {
    "scrolled": true
   },
   "outputs": [],
   "source": [
    "short_moving_average_appl = diff_train_aapl.rolling(window=9).mean()\n",
    "long_moving_average_appl = diff_train_aapl.rolling(window=22).mean()"
   ]
  },
  {
   "cell_type": "code",
   "execution_count": null,
   "metadata": {
    "scrolled": true
   },
   "outputs": [],
   "source": [
    "fig, ax = plt.subplots(figsize=(10, 6))\n",
    "ax.plot(diff_train_aapl.loc[start:end].index, \n",
    "        diff_train_aapl.loc[start:end],\n",
    "        label='Stock Price', linestyle='--')\n",
    "ax.plot(short_moving_average_appl.loc[start:end].index, \n",
    "        short_moving_average_appl.loc[start:end],\n",
    "        label = 'Short MA', linestyle='solid')\n",
    "ax.plot(long_moving_average_appl.loc[start:end].index, \n",
    "        long_moving_average_appl.loc[start:end],\n",
    "        label = 'Long MA', linestyle='solid')\n",
    "ax.legend(loc='best')\n",
    "ax.set_ylabel('Differenced Price')\n",
    "ax.set_title('Stock Prediction-Apple')\n",
    "plt.show()"
   ]
  },
  {
   "cell_type": "code",
   "execution_count": null,
   "metadata": {},
   "outputs": [],
   "source": [
    "short_moving_average_msft = diff_train_msft.rolling(window=2).mean()\n",
    "long_moving_average_msft = diff_train_msft.rolling(window=22).mean()"
   ]
  },
  {
   "cell_type": "code",
   "execution_count": null,
   "metadata": {},
   "outputs": [],
   "source": [
    "fig, ax = plt.subplots(figsize=(10, 6))\n",
    "ax.plot(diff_train_msft.loc[start:end].index,\n",
    "        diff_train_msft.loc[start:end],\n",
    "        label='Stock Price', linestyle='--')\n",
    "ax.plot(short_moving_average_msft.loc[start:end].index,\n",
    "        short_moving_average_msft.loc[start:end],\n",
    "        label = 'Short MA', linestyle='solid')\n",
    "ax.plot(long_moving_average_msft.loc[start:end].index,\n",
    "        long_moving_average_msft.loc[start:end],\n",
    "        label = 'Long MA', linestyle='-.')\n",
    "ax.legend(loc='best')\n",
    "ax.set_ylabel('Differenced Price')\n",
    "ax.set_xlabel('Date')\n",
    "ax.set_title('Stock Prediction-Microsoft')\n",
    "plt.show()"
   ]
  },
  {
   "cell_type": "markdown",
   "metadata": {},
   "source": [
    "## Autoregressive Model"
   ]
  },
  {
   "cell_type": "code",
   "execution_count": null,
   "metadata": {},
   "outputs": [],
   "source": [
    "sm.graphics.tsa.plot_pacf(diff_train_aapl, lags=30)\n",
    "plt.title('PACF of Apple')\n",
    "plt.xlabel('Number of Lags')\n",
    "plt.show()"
   ]
  },
  {
   "cell_type": "code",
   "execution_count": null,
   "metadata": {},
   "outputs": [],
   "source": [
    "sm.graphics.tsa.plot_pacf(diff_train_msft, lags=30)\n",
    "plt.title('PACF of Microsoft')\n",
    "plt.xlabel('Number of Lags')\n",
    "plt.show()"
   ]
  },
  {
   "cell_type": "code",
   "execution_count": null,
   "metadata": {},
   "outputs": [],
   "source": [
    "from statsmodels.tsa.ar_model import AutoReg\n",
    "import warnings\n",
    "warnings.filterwarnings('ignore')"
   ]
  },
  {
   "cell_type": "code",
   "execution_count": null,
   "metadata": {},
   "outputs": [],
   "source": [
    "ar_aapl = AutoReg(diff_train_aapl.values, lags=29)\n",
    "ar_fitted_aapl = ar_aapl.fit()"
   ]
  },
  {
   "cell_type": "code",
   "execution_count": null,
   "metadata": {},
   "outputs": [],
   "source": [
    "ar_predictions_aapl = ar_fitted_aapl.predict(start=len(diff_train_aapl), \n",
    "                                             end=len(diff_train_aapl)\\\n",
    "                                             + len(diff_test_aapl) - 1, \n",
    "                                             dynamic=False)"
   ]
  },
  {
   "cell_type": "code",
   "execution_count": null,
   "metadata": {},
   "outputs": [],
   "source": [
    "for i in range(len(ar_predictions_aapl)):\n",
    "    print('==' * 25)\n",
    "    print('predicted values:{:.4f} & actual values:{:.4f}'\\\n",
    "          .format(ar_predictions_aapl[i], diff_test_aapl[i]))"
   ]
  },
  {
   "cell_type": "code",
   "execution_count": null,
   "metadata": {},
   "outputs": [],
   "source": [
    "ar_predictions_aapl = pd.DataFrame(ar_predictions_aapl)\n",
    "ar_predictions_aapl.index = diff_test_aapl.index"
   ]
  },
  {
   "cell_type": "code",
   "execution_count": null,
   "metadata": {},
   "outputs": [],
   "source": [
    "ar_msft = AutoReg(diff_train_msft.values, lags=26)\n",
    "ar_fitted_msft = ar_msft.fit()"
   ]
  },
  {
   "cell_type": "code",
   "execution_count": null,
   "metadata": {},
   "outputs": [],
   "source": [
    "ar_predictions_msft = ar_fitted_msft.predict(start=len(diff_train_msft), \n",
    "                                             end=len(diff_train_msft)\\\n",
    "                                             +len(diff_test_msft) - 1,\n",
    "                                             dynamic=False)"
   ]
  },
  {
   "cell_type": "code",
   "execution_count": null,
   "metadata": {},
   "outputs": [],
   "source": [
    "ar_predictions_msft = pd.DataFrame(ar_predictions_msft)\n",
    "ar_predictions_msft.index = diff_test_msft.index"
   ]
  },
  {
   "cell_type": "code",
   "execution_count": null,
   "metadata": {},
   "outputs": [],
   "source": [
    "fig, ax = plt.subplots(2,1, figsize=(18, 15))\n",
    " \n",
    "ax[0].plot(diff_test_aapl, label='Actual Stock Price', linestyle='--')\n",
    "ax[0].plot(ar_predictions_aapl, linestyle='solid', label=\"Prediction\")\n",
    "ax[0].set_title('Predicted Stock Price-Apple')\n",
    "ax[0].legend(loc='best')\n",
    "ax[1].plot(diff_test_msft, label='Actual Stock Price', linestyle='--')\n",
    "ax[1].plot(ar_predictions_msft, linestyle='solid', label=\"Prediction\")\n",
    "ax[1].set_title('Predicted Stock Price-Microsoft')\n",
    "ax[1].legend(loc='best')\n",
    "for ax in ax.flat:\n",
    "    ax.set(xlabel='Date', ylabel='Differenced Price')\n",
    "plt.show()"
   ]
  },
  {
   "cell_type": "markdown",
   "metadata": {},
   "source": [
    "## ARIMA Model"
   ]
  },
  {
   "cell_type": "code",
   "execution_count": null,
   "metadata": {},
   "outputs": [],
   "source": [
    "from statsmodels.tsa.arima_model import ARIMA"
   ]
  },
  {
   "cell_type": "code",
   "execution_count": null,
   "metadata": {},
   "outputs": [],
   "source": [
    "split = int(len(stock_prices['AAPL'].values) * 0.95)\n",
    "train_aapl = stock_prices['AAPL'].iloc[:split]\n",
    "test_aapl = stock_prices['AAPL'].iloc[split:]\n",
    "train_msft = stock_prices['MSFT'].iloc[:split]\n",
    "test_msft = stock_prices['MSFT'].iloc[split:]"
   ]
  },
  {
   "cell_type": "code",
   "execution_count": null,
   "metadata": {},
   "outputs": [],
   "source": [
    "arima_aapl = ARIMA(train_aapl,order=(9, 1, 9))\n",
    "arima_fit_aapl = arima_aapl.fit()"
   ]
  },
  {
   "cell_type": "code",
   "execution_count": null,
   "metadata": {},
   "outputs": [],
   "source": [
    "arima_msft = ARIMA(train_msft, order=(6, 1, 6))\n",
    "arima_fit_msft = arima_msft.fit()"
   ]
  },
  {
   "cell_type": "code",
   "execution_count": null,
   "metadata": {},
   "outputs": [],
   "source": [
    "arima_predict_aapl = arima_fit_aapl.predict(start=len(train_aapl), \n",
    "                                                  end=len(train_aapl)\\\n",
    "                                                  + len(test_aapl) - 1, \n",
    "                                                  dynamic=False)\n",
    "arima_predict_msft = arima_fit_msft.predict(start=len(train_msft), \n",
    "                                                  end=len(train_msft)\\\n",
    "                                                  + len(test_msft) - 1, \n",
    "                                                  dynamic=False)"
   ]
  },
  {
   "cell_type": "code",
   "execution_count": null,
   "metadata": {},
   "outputs": [],
   "source": [
    "arima_predict_aapl = pd.DataFrame(arima_predict_aapl)\n",
    "arima_predict_aapl.index = diff_test_aapl.index\n",
    "arima_predict_msft = pd.DataFrame(arima_predict_msft)\n",
    "arima_predict_msft.index = diff_test_msft.index"
   ]
  },
  {
   "cell_type": "code",
   "execution_count": null,
   "metadata": {},
   "outputs": [],
   "source": [
    "fig, ax = plt.subplots(2, 1, figsize=(18, 15))\n",
    " \n",
    "ax[0].plot(diff_test_aapl, label='Actual Stock Price', linestyle='--')\n",
    "ax[0].plot(arima_predict_aapl, linestyle='solid', label=\"Prediction\")\n",
    "ax[0].set_title('Predicted Stock Price-Apple')\n",
    "ax[0].legend(loc='best')\n",
    "ax[1].plot(diff_test_msft, label='Actual Stock Price', linestyle='--')\n",
    "ax[1].plot(arima_predict_msft, linestyle='solid', label=\"Prediction\")\n",
    "ax[1].set_title('Predicted Stock Price-Microsoft')\n",
    "ax[1].legend(loc='best')\n",
    "for ax in ax.flat:\n",
    "    ax.set(xlabel='Date', ylabel='Differenced Price')\n",
    "plt.show()\n"
   ]
  },
  {
   "cell_type": "code",
   "execution_count": null,
   "metadata": {},
   "outputs": [],
   "source": [
    "import itertools"
   ]
  },
  {
   "cell_type": "code",
   "execution_count": null,
   "metadata": {},
   "outputs": [],
   "source": [
    "p = q = range(0, 9)\n",
    "d = range(0, 3)\n",
    "pdq = list(itertools.product(p, d, q))\n",
    "arima_results_aapl = []\n",
    "for param_set in pdq:\n",
    "    try:\n",
    "        arima_aapl = ARIMA(train_aapl, order=param_set)\n",
    "        arima_fitted_aapl = arima_aapl.fit()\n",
    "        arima_results_aapl.append(arima_fitted_aapl.aic)\n",
    "    except:\n",
    "        continue\n",
    "print('**'*25)\n",
    "print('The Lowest AIC score is {:.4f} and the corresponding parameters are {}'\n",
    "      .format(pd.DataFrame(arima_results_aapl)\n",
    "             .where(pd.DataFrame(arima_results_aapl).T.notnull().all()).min()[0], \n",
    "             pdq[arima_results_aapl.index(min(arima_results_aapl))]))"
   ]
  },
  {
   "cell_type": "code",
   "execution_count": null,
   "metadata": {},
   "outputs": [],
   "source": [
    "arima_aapl = ARIMA(train_aapl, order=(4, 1, 4))\n",
    "arima_fit_aapl = arima_aapl.fit()"
   ]
  },
  {
   "cell_type": "code",
   "execution_count": null,
   "metadata": {},
   "outputs": [],
   "source": [
    "p = q = range(0, 6)\n",
    "d = range(0, 3)\n",
    "pdq = list(itertools.product(p, d, q))\n",
    "arima_results_msft = []\n",
    "for param_set in pdq:\n",
    "    try:\n",
    "        arima_msft = ARIMA(stock_prices['MSFT'], order=param_set)\n",
    "        arima_fitted_msft = arima_msft.fit()\n",
    "        arima_results_msft.append(arima_fitted_msft.aic)\n",
    "    except:\n",
    "        continue\n",
    "print('**' * 25)\n",
    "print('The lowest AIC score is {:.4f} and parameters are {}'\n",
    "      .format(pd.DataFrame(arima_results_msft)\n",
    "              .where(pd.DataFrame(arima_results_msft).T.notnull()\\\n",
    "                     .all()).min()[0], \n",
    "              pdq[arima_results_msft.index(min(arima_results_msft))]))"
   ]
  },
  {
   "cell_type": "code",
   "execution_count": null,
   "metadata": {},
   "outputs": [],
   "source": [
    "arima_msft = ARIMA(stock_prices['MSFT'], order=(4, 2 ,4))\n",
    "arima_fit_msft= arima_msft.fit()"
   ]
  },
  {
   "cell_type": "code",
   "execution_count": null,
   "metadata": {},
   "outputs": [],
   "source": [
    "arima_predict_aapl = arima_fit_aapl.predict(start=len(train_aapl), \n",
    "                                                  end=len(train_aapl)\\\n",
    "                                                  +len(test_aapl) - 1, \n",
    "                                                  dynamic=False)\n",
    "arima_predict_msft = arima_fit_msft.predict(start=len(train_msft), \n",
    "                                                  end=len(train_msft)\\\n",
    "                                                  + len(test_msft) - 1, \n",
    "                                                  dynamic=False)"
   ]
  },
  {
   "cell_type": "code",
   "execution_count": null,
   "metadata": {},
   "outputs": [],
   "source": [
    "arima_predict_aapl = pd.DataFrame(arima_predict_aapl)\n",
    "arima_predict_aapl.index = diff_test_aapl.index\n",
    "arima_predict_msft = pd.DataFrame(arima_predict_msft)\n",
    "arima_predict_msft.index = diff_test_msft.index"
   ]
  },
  {
   "cell_type": "code",
   "execution_count": null,
   "metadata": {},
   "outputs": [],
   "source": [
    "fig, ax = plt.subplots(2, 1, figsize=(18, 15))\n",
    " \n",
    "ax[0].plot(diff_test_aapl, label='Actual Stock Price', linestyle='--')\n",
    "ax[0].plot(arima_predict_aapl, linestyle='solid', label=\"Prediction\")\n",
    "ax[0].set_title('Predicted Stock Price-Apple')\n",
    "ax[0].legend(loc='best')\n",
    "ax[1].plot(diff_test_msft, label='Actual Stock Price', linestyle='--')\n",
    "ax[1].plot(arima_predict_msft, linestyle='solid', label=\"Prediction\")\n",
    "ax[1].set_title('Predicted Stock Price-Microsoft')\n",
    "ax[1].legend(loc='best')\n",
    "for ax in ax.flat:\n",
    "    ax.set(xlabel='Date', ylabel='Differenced Price')\n",
    "plt.show()"
   ]
  }
 ],
 "metadata": {
  "kernelspec": {
   "display_name": "Python 3",
   "language": "python",
   "name": "python3"
  },
  "language_info": {
   "codemirror_mode": {
    "name": "ipython",
    "version": 3
   },
   "file_extension": ".py",
   "mimetype": "text/x-python",
   "name": "python",
   "nbconvert_exporter": "python",
   "pygments_lexer": "ipython3",
   "version": "3.8.8"
  },
  "latex_envs": {
   "LaTeX_envs_menu_present": true,
   "autoclose": false,
   "autocomplete": true,
   "bibliofile": "biblio.bib",
   "cite_by": "apalike",
   "current_citInitial": 1,
   "eqLabelWithNumbers": true,
   "eqNumInitial": 1,
   "hotkeys": {
    "equation": "Ctrl-E",
    "itemize": "Ctrl-I"
   },
   "labels_anchors": false,
   "latex_user_defs": false,
   "report_style_numbering": false,
   "user_envs_cfg": false
  },
  "toc": {
   "base_numbering": 1,
   "nav_menu": {},
   "number_sections": true,
   "sideBar": true,
   "skip_h1_title": false,
   "title_cell": "Table of Contents",
   "title_sidebar": "Contents",
   "toc_cell": false,
   "toc_position": {},
   "toc_section_display": true,
   "toc_window_display": false
  }
 },
 "nbformat": 4,
 "nbformat_minor": 4
}
